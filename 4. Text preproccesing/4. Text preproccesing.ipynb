{
 "cells": [
  {
   "cell_type": "markdown",
   "metadata": {},
   "source": [
    "# Step [1]: Prepare libraries and data"
   ]
  },
  {
   "cell_type": "markdown",
   "metadata": {},
   "source": [
    "## [1.1] Include important libraries"
   ]
  },
  {
   "cell_type": "code",
   "execution_count": 18,
   "metadata": {},
   "outputs": [],
   "source": [
    "import pandas as pd\n",
    "import matplotlib.pyplot as plt\n",
    "import nltk\n",
    "from operator import itemgetter\n",
    "import arabic_reshaper\n",
    "import re\n",
    "import json\n",
    "import requests\n",
    "from ar_corrector.corrector import Corrector\n",
    "import qalsadi.lemmatizer"
   ]
  },
  {
   "cell_type": "markdown",
   "metadata": {},
   "source": [
    "## [1.2] Download data"
   ]
  },
  {
   "cell_type": "code",
   "execution_count": null,
   "metadata": {
    "scrolled": false
   },
   "outputs": [],
   "source": [
    "# !wget 'https://drive.google.com/uc?export=download&id=1KepfzAhJ7dloG8XaWQf0ovQipDHYS8aI' -O 'final_data.zip'"
   ]
  },
  {
   "cell_type": "code",
   "execution_count": null,
   "metadata": {},
   "outputs": [],
   "source": [
    "# !unzip final_data.zip"
   ]
  },
  {
   "cell_type": "markdown",
   "metadata": {},
   "source": [
    "## [1.3] read data from csv file"
   ]
  },
  {
   "cell_type": "code",
   "execution_count": 2,
   "metadata": {},
   "outputs": [
    {
     "data": {
      "text/html": [
       "<div>\n",
       "<style scoped>\n",
       "    .dataframe tbody tr th:only-of-type {\n",
       "        vertical-align: middle;\n",
       "    }\n",
       "\n",
       "    .dataframe tbody tr th {\n",
       "        vertical-align: top;\n",
       "    }\n",
       "\n",
       "    .dataframe thead th {\n",
       "        text-align: right;\n",
       "    }\n",
       "</style>\n",
       "<table border=\"1\" class=\"dataframe\">\n",
       "  <thead>\n",
       "    <tr style=\"text-align: right;\">\n",
       "      <th></th>\n",
       "      <th>tweet</th>\n",
       "      <th>label</th>\n",
       "    </tr>\n",
       "  </thead>\n",
       "  <tbody>\n",
       "    <tr>\n",
       "      <th>0</th>\n",
       "      <td>#تبني_قطط_انقاذ من الخاص هاااام كيتن أنثى عمره...</td>\n",
       "      <td>2</td>\n",
       "    </tr>\n",
       "    <tr>\n",
       "      <th>1</th>\n",
       "      <td>'#خذ_الخطوة_خذ_اللقاح \\nالحمدالله من قبل ومن ب...</td>\n",
       "      <td>1</td>\n",
       "    </tr>\n",
       "    <tr>\n",
       "      <th>2</th>\n",
       "      <td>لو اللي مثلك وشرواك طعمو كان قد حذفنا الكمامات...</td>\n",
       "      <td>1</td>\n",
       "    </tr>\n",
       "    <tr>\n",
       "      <th>3</th>\n",
       "      <td>#الصحة:•نحو 14.5 مليون شخص تم إعطاؤهم جرعة لقا...</td>\n",
       "      <td>1</td>\n",
       "    </tr>\n",
       "    <tr>\n",
       "      <th>4</th>\n",
       "      <td>• في منظور القوة البشرية ( الأزمة ستطول لأشهر ...</td>\n",
       "      <td>3</td>\n",
       "    </tr>\n",
       "  </tbody>\n",
       "</table>\n",
       "</div>"
      ],
      "text/plain": [
       "                                               tweet  label\n",
       "0  #تبني_قطط_انقاذ من الخاص هاااام كيتن أنثى عمره...      2\n",
       "1  '#خذ_الخطوة_خذ_اللقاح \\nالحمدالله من قبل ومن ب...      1\n",
       "2  لو اللي مثلك وشرواك طعمو كان قد حذفنا الكمامات...      1\n",
       "3  #الصحة:•نحو 14.5 مليون شخص تم إعطاؤهم جرعة لقا...      1\n",
       "4  • في منظور القوة البشرية ( الأزمة ستطول لأشهر ...      3"
      ]
     },
     "execution_count": 2,
     "metadata": {},
     "output_type": "execute_result"
    }
   ],
   "source": [
    "train = pd.read_csv('train.csv')\n",
    "test = pd.read_csv('test.csv')\n",
    "valid = pd.read_csv('valid.csv')\n",
    "train.head()"
   ]
  },
  {
   "cell_type": "markdown",
   "metadata": {},
   "source": [
    "# Step [2]: Text Analysis"
   ]
  },
  {
   "cell_type": "markdown",
   "metadata": {},
   "source": [
    "## [2.1] Tweets per class"
   ]
  },
  {
   "cell_type": "code",
   "execution_count": 3,
   "metadata": {},
   "outputs": [
    {
     "data": {
      "image/png": "[encoded data removed]",
      "text/plain": [
       "<Figure size 432x288 with 1 Axes>"
      ]
     },
     "metadata": {
      "needs_background": "light"
     },
     "output_type": "display_data"
    },
    {
     "data": {
      "text/plain": [
       "3    7338\n",
       "1    5334\n",
       "2    3902\n",
       "0    2783\n",
       "Name: label, dtype: int64"
      ]
     },
     "execution_count": 3,
     "metadata": {},
     "output_type": "execute_result"
    }
   ],
   "source": [
    "# count = train['label'].value_counts()\n",
    "# plt.hist(weights=count, x=['unknown','positive', 'irrelevant','negative'])\n",
    "# plt.show()\n",
    "# count"
   ]
  },
  {
   "cell_type": "markdown",
   "metadata": {},
   "source": [
    "## [2.2] Finding collocations (n-grams)"
   ]
  },
  {
   "cell_type": "code",
   "execution_count": 4,
   "metadata": {},
   "outputs": [],
   "source": [
    "def find_bigrams(tweet, work = 1):\n",
    "    \"\"\"find collocations in tweet function.\n",
    "    Input:\n",
    "        tweet: a string containing a tweet\n",
    "        work: binary value take 1 by default working as on/off for the function, if work=0 the function will return\n",
    "     the tweet without changing\n",
    "    Output:\n",
    "        bigrams\n",
    "\n",
    "    \"\"\"\n",
    "    bigram_measures = nltk.collocations.BigramAssocMeasures()\n",
    "    finder = nltk.collocations.BigramCollocationFinder.from_words(tweet)\n",
    "    finder.apply_freq_filter(10)\n",
    "    # return the 10 n-grams with the highest PMI\n",
    "    collocations = finder.nbest(bigram_measures.raw_freq, 10)\n",
    "#     for i in finder.score_ngrams(bigram_measures.pmi):\n",
    "#         print (i)\n",
    "    return collocations"
   ]
  },
  {
   "cell_type": "code",
   "execution_count": 5,
   "metadata": {},
   "outputs": [],
   "source": [
    "def find_trigrams(tweet, work = 1):\n",
    "    \"\"\"find collocations in tweet function.\n",
    "    Input:\n",
    "        tweet: a string containing a tweet\n",
    "        work: binary value take 1 by default working as on/off for the function, if work=0 the function will return\n",
    "     the tweet without changing\n",
    "    Output:\n",
    "        trigrams\n",
    "\n",
    "    \"\"\"\n",
    "    trigramm_measures = nltk.collocations.TrigramAssocMeasures()\n",
    "    finder = nltk.collocations.TrigramCollocationFinder.from_words(tweet)\n",
    "    finder.apply_freq_filter(10)\n",
    "    # return the 10 n-grams with the highest PMI\n",
    "    collocations = finder.nbest(trigramm_measures.raw_freq, 10)\n",
    "#     for i in finder.score_ngrams(trigramm_measures.pmi):\n",
    "#         print (i)\n",
    "    return collocations"
   ]
  },
  {
   "cell_type": "code",
   "execution_count": 6,
   "metadata": {},
   "outputs": [],
   "source": [
    "def find_quadgrams(tweet, work = 1):\n",
    "    \"\"\"find collocations in tweet function.\n",
    "    Input:\n",
    "        tweet: a string containing a tweet\n",
    "        work: binary value take 1 by default working as on/off for the function, if work=0 the function will return\n",
    "     the tweet without changing\n",
    "    Output:\n",
    "        quadgrams\n",
    "\n",
    "    \"\"\"\n",
    "    quadgram_measures = nltk.collocations.QuadgramAssocMeasures()\n",
    "    finder = nltk.collocations.QuadgramCollocationFinder.from_words(tweet)\n",
    "    finder.apply_freq_filter(10)\n",
    "    # return the 10 n-grams with the highest PMI\n",
    "    collocations = finder.nbest(quadgram_measures.raw_freq, 10)\n",
    "#     for i in finder.score_ngrams(trigramm_measures.pmi):\n",
    "#         print (i)\n",
    "    return collocations"
   ]
  },
  {
   "cell_type": "code",
   "execution_count": 7,
   "metadata": {},
   "outputs": [
    {
     "name": "stdout",
     "output_type": "stream",
     "text": [
      "[('', ''), ('لقاح', 'كورونا'), ('من', 'لقاح'), ('فيروس', 'كورونا'), ('على', 'لقاح'), ('لقاح', 'فيروس'), ('لقاح', '#كورونا'), ('كورونا', 'في'), ('وزارة', 'الصحة'), ('ضد', 'فيروس')]\n",
      "[('', '', ''), ('من', 'لقاح', 'كورونا'), ('لقاح', 'فيروس', 'كورونا'), ('جرعة', 'من', 'لقاح'), ('ضد', 'فيروس', 'كورونا'), ('', '', \"',\"), ('الجرعة', 'الثانية', 'من'), ('الجرعة', 'الأولى', 'من'), ('لقاح', 'كورونا', 'في'), ('الأولى', 'من', 'لقاح')]\n",
      "[('', '', '', ''), ('', '', '', \"',\"), ('الجرعة', 'الأولى', 'من', 'لقاح'), ('الجرعة', 'الثانية', 'من', 'لقاح'), ('لقاح', 'ضد', 'فيروس', 'كورونا'), ('مليون', 'جرعة', 'من', 'لقاح'), ('الثانية', 'من', 'لقاح', 'كورونا'), ('الأولى', 'من', 'لقاح', 'كورونا'), ('من', 'لقاح', 'فيروس', 'كورونا'), ('-', 'عبر', 'تطبيق', 'نبض')]\n"
     ]
    }
   ],
   "source": [
    "# words = str(train.tweet.values.tolist()).split(' ')\n",
    "# co = find_bigrams(words)\n",
    "# print(co)\n",
    "# co = find_trigrams(words)\n",
    "# print(co)\n",
    "# co = find_quadgrams(words)\n",
    "# print(co)"
   ]
  },
  {
   "cell_type": "markdown",
   "metadata": {},
   "source": [
    "## [2.3] Finding collocations (n-grams) for each label\n"
   ]
  },
  {
   "cell_type": "code",
   "execution_count": 8,
   "metadata": {},
   "outputs": [
    {
     "name": "stdout",
     "output_type": "stream",
     "text": [
      "[('لقاح', 'كورونا'), ('', ''), ('من', 'لقاح'), ('فيروس', 'كورونا'), ('من', 'كورونا'), ('من', 'اللقاح'), ('على', 'لقاح'), ('لقاح', '#كورونا'), ('', \"',\"), ('اخذ', 'لقاح')]\n",
      "[('', '', ''), ('من', 'لقاح', 'كورونا'), ('ضد', 'فيروس', 'كورونا'), ('', '', \"',\"), ('لقاح', 'فيروس', 'كورونا'), ('الله', 'ونعم', 'الوكيل'), ('على', 'لقاح', 'كورونا'), ('منظمة', 'الصحة', 'العالمية'), ('حسبنا', 'الله', 'ونعم'), ('بعد', 'تلقي', 'لقاح')]\n",
      "[('', '', '', ''), ('', '', '', \"',\"), ('لقاح', 'ضد', 'فيروس', 'كورونا')]\n"
     ]
    }
   ],
   "source": [
    "# words_0 = str(train[train.label == 0].tweet.values.tolist()).split(' ')\n",
    "# co = find_bigrams(words_0)\n",
    "# print(co)\n",
    "# co = find_trigrams(words_0)\n",
    "# print(co)\n",
    "# co = find_quadgrams(words_0)\n",
    "# print(co)"
   ]
  },
  {
   "cell_type": "code",
   "execution_count": 9,
   "metadata": {},
   "outputs": [
    {
     "name": "stdout",
     "output_type": "stream",
     "text": [
      "[('لقاح', 'كورونا'), ('', ''), ('من', 'لقاح'), ('فيروس', 'كورونا'), ('لقاح', 'فيروس'), ('على', 'لقاح'), ('لقاح', '#كورونا'), ('ضد', 'فيروس'), ('الجرعة', 'الأولى'), ('الجرعة', 'الثانية')]\n",
      "[('', '', ''), ('من', 'لقاح', 'كورونا'), ('الجرعة', 'الأولى', 'من'), ('لقاح', 'فيروس', 'كورونا'), ('الأولى', 'من', 'لقاح'), ('ضد', 'فيروس', 'كورونا'), ('جرعة', 'من', 'لقاح'), ('الجرعة', 'الثانية', 'من'), ('الثانية', 'من', 'لقاح'), ('جرعتين', 'من', 'لقاح')]\n",
      "[('', '', '', ''), ('الجرعة', 'الأولى', 'من', 'لقاح'), ('الجرعة', 'الثانية', 'من', 'لقاح'), ('الأولى', 'من', 'لقاح', 'كورونا'), ('على', 'جرعتين', 'من', 'لقاح'), ('الثانية', 'من', 'لقاح', 'كورونا'), ('من', 'لقاح', 'فيروس', 'كورونا'), ('', '', '', \"',\"), ('جرعتين', 'من', 'لقاح', 'كورونا'), ('لقاح', 'ضد', 'فيروس', 'كورونا')]\n"
     ]
    }
   ],
   "source": [
    "# words_1 = str(train[train.label == 1].tweet.values.tolist()).split(' ')\n",
    "# co = find_bigrams(words_1)\n",
    "# print(co)\n",
    "# co = find_trigrams(words_1)\n",
    "# print(co)\n",
    "# co = find_quadgrams(words_1)\n",
    "# print(co)"
   ]
  },
  {
   "cell_type": "code",
   "execution_count": 10,
   "metadata": {},
   "outputs": [
    {
     "name": "stdout",
     "output_type": "stream",
     "text": [
      "[('', ''), ('لقاح', 'كورونا'), ('فيروس', 'كورونا'), ('بفيروس', 'كورونا'), ('فايروس', 'كورونا'), ('وزارة', 'الصحة'), ('جائحة', 'كورونا'), ('إصابة', 'جديدة'), ('جديدة', 'بفيروس'), ('كورونا', 'في')]\n",
      "[('', '', ''), ('جديدة', 'بفيروس', 'كورونا'), ('إصابة', 'جديدة', 'بفيروس'), ('من', 'فيروس', 'كورونا'), ('منظمة', 'الصحة', 'العالمية'), ('فيروس', 'كورونا', 'الجديد'), ('دواء', 'قادر', 'على'), ('قادر', 'على', 'وقف'), ('على', 'وقف', 'عدوى'), ('من', 'لقاح', 'كورونا')]\n",
      "[('', '', '', ''), ('إصابة', 'جديدة', 'بفيروس', 'كورونا'), ('دواء', 'قادر', 'على', 'وقف'), ('قادر', 'على', 'وقف', 'عدوى'), ('عن', 'دواء', 'قادر', 'على'), ('تعلن', 'عن', 'دواء', 'قادر'), ('حالة', 'إيجابية', 'جديدة', 'بفيروس'), ('بين', 'سكان', 'أصبحوا', 'أكثر'), ('تصبح', 'أقل', 'ضراوة', 'بمرور'), ('على', 'وقف', 'عدوى', 'كورونا')]\n"
     ]
    }
   ],
   "source": [
    "# words_2 = str(train[train.label == 2].tweet.values.tolist()).split(' ')\n",
    "# co = find_bigrams(words_2)\n",
    "# print(co)\n",
    "# co = find_trigrams(words_2)\n",
    "# print(co)\n",
    "# co = find_quadgrams(words_2)\n",
    "# print(co)"
   ]
  },
  {
   "cell_type": "code",
   "execution_count": 11,
   "metadata": {
    "scrolled": true
   },
   "outputs": [
    {
     "name": "stdout",
     "output_type": "stream",
     "text": [
      "[('', ''), ('لقاح', 'كورونا'), ('من', 'لقاح'), ('فيروس', 'كورونا'), ('على', 'لقاح'), ('لقاح', '#كورونا'), ('لقاح', 'فيروس'), ('كورونا', 'في'), ('', \"',\"), ('جرعة', 'من')]\n",
      "[('', '', ''), ('من', 'لقاح', 'كورونا'), ('لقاح', 'فيروس', 'كورونا'), ('', '', \"',\"), ('جرعة', 'من', 'لقاح'), ('لقاح', 'كورونا', 'في'), ('على', 'لقاح', 'كورونا'), ('ضد', 'فيروس', 'كورونا'), ('الجرعة', 'الثانية', 'من'), ('الثانية', 'من', 'لقاح')]\n",
      "[('', '', '', ''), ('', '', '', \"',\"), ('الجرعة', 'الثانية', 'من', 'لقاح'), ('مليون', 'جرعة', 'من', 'لقاح'), ('بالتسجيل', 'لأخذ', 'لقاح', 'فيروس'), ('الثانية', 'من', 'لقاح', 'كورونا'), ('اضافة', 'ثلاث', 'مراكز', 'صحية'), ('ثلاث', 'مراكز', 'صحية', 'لحملة'), ('الجرعة', 'الأولى', 'من', 'لقاح'), ('فضلا', 'التواصل', 'مع', 'وزارة')]\n"
     ]
    }
   ],
   "source": [
    "# words_3 = str(train[train.label == 3].tweet.values.tolist()).split(' ')\n",
    "# co = find_bigrams(words_3)\n",
    "# print(co)\n",
    "# co = find_trigrams(words_3)\n",
    "# print(co)\n",
    "# co = find_quadgrams(words_3)\n",
    "# print(co)"
   ]
  },
  {
   "cell_type": "markdown",
   "metadata": {},
   "source": [
    "## [2.4] Histogram for tweet length"
   ]
  },
  {
   "cell_type": "code",
   "execution_count": 12,
   "metadata": {
    "scrolled": true
   },
   "outputs": [],
   "source": [
    "# wx = {}\n",
    "# i=0\n",
    "# for t in train.tweet.values.tolist() :\n",
    "#     if len(str(t)) in wx:\n",
    "#         wx[len(str(t))] += 1\n",
    "#     else:\n",
    "#         wx[len(str(t))] = 1"
   ]
  },
  {
   "cell_type": "code",
   "execution_count": 13,
   "metadata": {},
   "outputs": [],
   "source": [
    "# w = [] \n",
    "# x = [] \n",
    "# for k in wx:\n",
    "#     x.append(k)\n",
    "#     w.append(wx[k])"
   ]
  },
  {
   "cell_type": "code",
   "execution_count": 14,
   "metadata": {
    "scrolled": false
   },
   "outputs": [
    {
     "data": {
      "image/png": "[encoded data removed]",
      "text/plain": [
       "<Figure size 432x288 with 1 Axes>"
      ]
     },
     "metadata": {
      "needs_background": "light"
     },
     "output_type": "display_data"
    }
   ],
   "source": [
    "# plt.hist(x=x, weights=w, bins = int(len(x)))\n",
    "# plt.title('Number of tweet vs. tweets length')\n",
    "# plt.xlabel='Number of tweets'\n",
    "# plt.ylabel='tweets length'\n",
    "# plt.show()"
   ]
  },
  {
   "cell_type": "markdown",
   "metadata": {},
   "source": [
    "## [2.5] Trending hashtags"
   ]
  },
  {
   "cell_type": "code",
   "execution_count": 15,
   "metadata": {},
   "outputs": [],
   "source": [
    "def trending_hashtags(words, maxN, work=1):\n",
    "    \"\"\"Process tweet function.\n",
    "    Input:\n",
    "        words: words of the tweets\n",
    "        maxN: max number of trending hashtags returned\n",
    "        work: binary value take 1 by default working as on/off for the function, if work=0 the function will return\n",
    "     the tweet without changing\n",
    "    Output:\n",
    "        trending hashtags\n",
    "\n",
    "    \"\"\"\n",
    "    hashtags = {}\n",
    "    for word in words:\n",
    "        if word in hashtags and word and word[0] == '#':\n",
    "            hashtags[word] += 1\n",
    "        else:\n",
    "            hashtags[word] = 1\n",
    "    trend = dict(sorted(hashtags.items(), key = itemgetter(1), reverse = True)[:maxN])\n",
    "    \n",
    "    w = [] \n",
    "    x = [] \n",
    "    for k in trend:\n",
    "        x.append(k)\n",
    "        w.append(trend[k])\n",
    "    \n",
    "    plt.hist(x=x, weights=w, bins = int(len(x)))\n",
    "    plt.title('Number of tweet vs. tweets length')\n",
    "    plt.xticks(rotation=90)\n",
    "    plt.show()\n",
    "    \n",
    "    return trend"
   ]
  },
  {
   "cell_type": "code",
   "execution_count": 16,
   "metadata": {},
   "outputs": [
    {
     "data": {
      "image/png": "[encoded data removed]",
      "text/plain": [
       "<Figure size 432x288 with 1 Axes>"
      ]
     },
     "metadata": {
      "needs_background": "light"
     },
     "output_type": "display_data"
    },
    {
     "data": {
      "text/plain": [
       "{'#كورونا': 1787,\n",
       " '#لقاح_كورونا': 678,\n",
       " '#كوفيد_19': 324,\n",
       " '#فيروس_كورونا': 324,\n",
       " '#كوفيد19': 162,\n",
       " '#لقاح': 142,\n",
       " '#وزارة_الصحة': 131,\n",
       " '#الكويت': 123,\n",
       " '#فايزر': 121,\n",
       " '#السعودية': 98}"
      ]
     },
     "execution_count": 16,
     "metadata": {},
     "output_type": "execute_result"
    }
   ],
   "source": [
    "# trending_hashtags(words, 10)"
   ]
  },
  {
   "cell_type": "markdown",
   "metadata": {},
   "source": [
    "## [2.6] Trending hashtags for each label"
   ]
  },
  {
   "cell_type": "code",
   "execution_count": 17,
   "metadata": {},
   "outputs": [
    {
     "data": {
      "image/png": "[encoded data removed]",
      "text/plain": [
       "<Figure size 432x288 with 1 Axes>"
      ]
     },
     "metadata": {
      "needs_background": "light"
     },
     "output_type": "display_data"
    },
    {
     "data": {
      "text/plain": [
       "{'#كورونا': 150,\n",
       " '#لقاح_كورونا': 64,\n",
       " '#لا_للتطعيم_الاجباري': 48,\n",
       " '#كوفيد_19': 30,\n",
       " '#التطعيم': 23,\n",
       " '#لا_للتطعيم_الاجباري١٤': 18,\n",
       " '#فيروس_كورونا': 17,\n",
       " '#نرفض_التطعيم_الاجباري': 16,\n",
       " '#لقاح_فايزر': 14,\n",
       " '#لقاح': 14}"
      ]
     },
     "execution_count": 17,
     "metadata": {},
     "output_type": "execute_result"
    }
   ],
   "source": [
    "# trending_hashtags(words_0, 10)"
   ]
  },
  {
   "cell_type": "code",
   "execution_count": 18,
   "metadata": {},
   "outputs": [
    {
     "data": {
      "image/png": "[encoded data removed]",
      "text/plain": [
       "<Figure size 432x288 with 1 Axes>"
      ]
     },
     "metadata": {
      "needs_background": "light"
     },
     "output_type": "display_data"
    },
    {
     "data": {
      "text/plain": [
       "{'#كورونا': 553,\n",
       " '#لقاح_كورونا': 219,\n",
       " '#فيروس_كورونا': 103,\n",
       " '#كوفيد_19': 99,\n",
       " '#فايزر': 48,\n",
       " '#لقاح': 47,\n",
       " '#وزارة_الصحة': 45,\n",
       " '#كوفيد19': 32,\n",
       " '#السعودية': 31,\n",
       " '#الكويت': 29}"
      ]
     },
     "execution_count": 18,
     "metadata": {},
     "output_type": "execute_result"
    }
   ],
   "source": [
    "# trending_hashtags(words_1, 10)"
   ]
  },
  {
   "cell_type": "code",
   "execution_count": 19,
   "metadata": {},
   "outputs": [
    {
     "data": {
      "image/png": "[encoded data removed]",
      "text/plain": [
       "<Figure size 432x288 with 1 Axes>"
      ]
     },
     "metadata": {
      "needs_background": "light"
     },
     "output_type": "display_data"
    },
    {
     "data": {
      "text/plain": [
       "{'#كورونا': 368,\n",
       " '#كوفيد_19': 106,\n",
       " '#لقاح_كورونا': 95,\n",
       " '#فيروس_كورونا': 87,\n",
       " '#كوفيد19': 68,\n",
       " '#الكويت': 46,\n",
       " '#COVID19': 35,\n",
       " '#وزارة_الصحة': 33,\n",
       " '#كورونا_الجديد': 32,\n",
       " '#فيروس': 30}"
      ]
     },
     "execution_count": 19,
     "metadata": {},
     "output_type": "execute_result"
    }
   ],
   "source": [
    "# trending_hashtags(words_2, 10)"
   ]
  },
  {
   "cell_type": "code",
   "execution_count": 20,
   "metadata": {},
   "outputs": [
    {
     "data": {
      "image/png": "[encoded data removed]",
      "text/plain": [
       "<Figure size 432x288 with 1 Axes>"
      ]
     },
     "metadata": {
      "needs_background": "light"
     },
     "output_type": "display_data"
    },
    {
     "data": {
      "text/plain": [
       "{'#كورونا': 716,\n",
       " '#لقاح_كورونا': 300,\n",
       " '#فيروس_كورونا': 117,\n",
       " '#كوفيد_19': 89,\n",
       " '#لقاح': 60,\n",
       " '#كوفيد19': 56,\n",
       " '#فايزر': 54,\n",
       " '#وزارة_الصحة': 44,\n",
       " '#لقاح_فايزر': 39,\n",
       " '#الكويت': 36}"
      ]
     },
     "execution_count": 20,
     "metadata": {},
     "output_type": "execute_result"
    }
   ],
   "source": [
    "# trending_hashtags(words_3, 10)"
   ]
  },
  {
   "cell_type": "markdown",
   "metadata": {},
   "source": [
    "## [3.1] Remove URLs & mentions"
   ]
  },
  {
   "cell_type": "markdown",
   "metadata": {},
   "source": [
    "# اولا نحذف الأسطر التي تحوي قيم فارغة"
   ]
  },
  {
   "cell_type": "code",
   "execution_count": 3,
   "metadata": {},
   "outputs": [],
   "source": [
    "tweets = []\n",
    "for t in train.tweet.values:\n",
    "    if isinstance(t, str):\n",
    "        tweets.append(t)"
   ]
  },
  {
   "cell_type": "code",
   "execution_count": 4,
   "metadata": {},
   "outputs": [],
   "source": [
    "def remove_urls(tweets, work=1):\n",
    "    \"\"\"Process tweet function.\n",
    "    Input:\n",
    "        tweets: list of tweets\n",
    "        work: binary value take 1 by default working as on/off for the function, if work=0 the function will return\n",
    "     the tweet without changing\n",
    "    Output:\n",
    "        cleaned_tweets: tweet after removing urls\n",
    "\n",
    "    \"\"\"\n",
    "    if work == 0:\n",
    "        return tweets\n",
    "    cleaned_tweets = []\n",
    "    for t in tweets:\n",
    "        cleaned_tweets.append(re.sub(r\"http\\S+\", \" \",t))\n",
    "    return cleaned_tweets"
   ]
  },
  {
   "cell_type": "code",
   "execution_count": 5,
   "metadata": {},
   "outputs": [],
   "source": [
    "def remove_mentions(tweets, work=1):\n",
    "    \"\"\"Process tweet function.\n",
    "    Input:\n",
    "        tweets: list of tweets\n",
    "        work: binary value take 1 by default working as on/off for the function, if work=0 the function will return\n",
    "     the tweet without changing\n",
    "    Output:\n",
    "        cleaned_tweets: tweet after removing mentions\n",
    "\n",
    "    \"\"\"\n",
    "    if work == 0:\n",
    "        return tweets\n",
    "    cleaned_tweets = []\n",
    "    for t in tweets:\n",
    "        cleaned_tweets.append(re.sub(\"@([a-zA-Z0-9_]{1,50})\", \" \",t))\n",
    "    return cleaned_tweets"
   ]
  },
  {
   "cell_type": "code",
   "execution_count": 24,
   "metadata": {},
   "outputs": [
    {
     "data": {
      "text/plain": [
       "['#تبني_قطط_انقاذ من الخاص هاااام كيتن أنثى عمرها ٥٩ يوم اخذتها حديثه الولاده عمرها ٣ ايام تم التطعيم امس سبب العرض للتبني انا اعتني بالقطط حديثه الولاده  وعند اكتمال شهرين يحتاجوا مساحة  وانا ما عندي هادي لوجود اكثر من ٧ قطط حديثه الولاده للتواصل   التبني الرياض ',\n",
       " \"'#خذ_الخطوة_خذ_اللقاح \\\\nالحمدالله من قبل ومن بعد أخذت اليوم \\\\nالجرعه الأولى من لقاح #فيروس_كورونا\\\\nأسأل الله أن يجعل فيه العافيه وأن يزيل \\\\nعن هذا الوباء عاجلا غير آجل.  \",\n",
       " 'لو اللي مثلك وشرواك طعمو كان قد حذفنا الكمامات وارتاحت اذانينا لاننا نلبسها الحين علشانكم انتم ووزارة الصحه خايفه عليكم، حنا بمركب واحد اما ناخذ اللقاح ونوصل لارض اليابسه ولا نستمر في الامواج ( المتحورات)لحد مايرحمنا الله برحمته',\n",
       " '#الصحة:•نحو 14.5 مليون شخص تم إعطاؤهم جرعة لقاح #كورونا•اللقاحات آمنة وبإمكان كل من تلقى اللقاح التبرع بالدم•يمكن تلقي جرعات مختلفة من لقاح كورونا',\n",
       " '• في منظور القوة البشرية ( الأزمة ستطول لأشهر - كورونا في انتشار - اللقاح يحتاج إلى سنة لاعتماده ) • وفي القدرة الإلهية لطف ورحمة وحكمة قال ربي سبحانه وتعالى: { وما كانَ اللهُ ليُعجزه من شيءٍ في السماوات ولا في الأرض إنه كان عليمًا قديرًا }']"
      ]
     },
     "execution_count": 24,
     "metadata": {},
     "output_type": "execute_result"
    }
   ],
   "source": [
    "tweets_no_urls = remove_urls(tweets)\n",
    "tweets_no_url_mentions = remove_mentions(tweets_no_urls)\n",
    "tweets_no_url_mentions[:5]"
   ]
  },
  {
   "cell_type": "markdown",
   "metadata": {},
   "source": [
    "## لا نحذف الهاشتاغات لأنها جزء من محتوى النص تساعد على فهم المعنى "
   ]
  },
  {
   "cell_type": "markdown",
   "metadata": {},
   "source": [
    "## [3.2] Remove duplicated characters"
   ]
  },
  {
   "cell_type": "code",
   "execution_count": 6,
   "metadata": {},
   "outputs": [],
   "source": [
    "def remove_dup_cahrs(tweets, work=1):\n",
    "    \"\"\"Process tweet function.\n",
    "    Input:\n",
    "        tweets: list of tweets\n",
    "        work: binary value take 1 by default working as on/off for the function, if work=0 the function will return\n",
    "     the tweet without changing\n",
    "    Output:\n",
    "        cleaned_tweets: tweet after removing duplicated chars\n",
    "\n",
    "    \"\"\"\n",
    "    if work == 0:\n",
    "        return tweets\n",
    "    cleaned_tweets = []\n",
    "    for t in tweets:\n",
    "        cleaned_tweets.append(re.sub(r'(.)\\1+', r'\\1', t))\n",
    "    return cleaned_tweets"
   ]
  },
  {
   "cell_type": "markdown",
   "metadata": {},
   "source": [
    "## لتوحيد الكلمات التي تملك نفس المعنى"
   ]
  },
  {
   "cell_type": "code",
   "execution_count": 26,
   "metadata": {},
   "outputs": [],
   "source": [
    "tweets_no_dup_cahrs = remove_dup_cahrs(tweets_no_url_mentions)"
   ]
  },
  {
   "cell_type": "code",
   "execution_count": 27,
   "metadata": {},
   "outputs": [
    {
     "data": {
      "text/plain": [
       "'  سؤال لمن يعرف  لماذا جميع شركات الادوية و المختبرات في العالم قاموا بعمل لقاح كورونا معتمدين عن mRNA و لم تقوم اي شركة او مختبر او باحث باجراء لقاح تقليدي ؟؟!!!'"
      ]
     },
     "execution_count": 27,
     "metadata": {},
     "output_type": "execute_result"
    }
   ],
   "source": [
    "tweets_no_url_mentions[23]"
   ]
  },
  {
   "cell_type": "code",
   "execution_count": 28,
   "metadata": {},
   "outputs": [
    {
     "data": {
      "text/plain": [
       "' سؤال لمن يعرف لماذا جميع شركات الادوية و المختبرات في العالم قاموا بعمل لقاح كورونا معتمدين عن mRNA و لم تقوم اي شركة او مختبر او باحث باجراء لقاح تقليدي ؟!'"
      ]
     },
     "execution_count": 28,
     "metadata": {},
     "output_type": "execute_result"
    }
   ],
   "source": [
    "tweets_no_dup_cahrs[23]"
   ]
  },
  {
   "cell_type": "markdown",
   "metadata": {},
   "source": [
    "## [3.3] Unify words"
   ]
  },
  {
   "cell_type": "code",
   "execution_count": 7,
   "metadata": {},
   "outputs": [],
   "source": [
    "def spell_check(tweets, work=1):\n",
    "    \"\"\"Process tweet function.\n",
    "    Input:\n",
    "        tweets: list of tweets\n",
    "        work: binary value take 1 by default working as on/off for the function, if work=0 the function will return\n",
    "     the tweet without changing\n",
    "    Output:\n",
    "        cleaned_tweets: tweet after spell_check\n",
    "\n",
    "    \"\"\"\n",
    "    if work == 0:\n",
    "        return tweets\n",
    "    \n",
    "    corr = Corrector()\n",
    "    cleaned_tweets = []\n",
    "    for tweet in tweets:\n",
    "        cleaned_tweet = ''\n",
    "        for word in tweet.split(' '):\n",
    "            ch = corr.spell_correct(word)\n",
    "            if ch != True:\n",
    "                word = ch[0][0]\n",
    "            cleaned_tweet += word + ' '\n",
    "        cleaned_tweets.append(cleaned_tweet)\n",
    "    return cleaned_tweets"
   ]
  },
  {
   "cell_type": "markdown",
   "metadata": {},
   "source": [
    "## خطوة مفيدة ولكن عملية التصحيح ليست دقيقة وقد تغير المعنى المقصود من النص"
   ]
  },
  {
   "cell_type": "code",
   "execution_count": 30,
   "metadata": {},
   "outputs": [
    {
     "data": {
      "text/plain": [
       "['# من الخاص هااااا كيتا أنثى عمرها في يوم اخذتها حديثه الولاده عمرها و ايام تم التطعيم امس سبب العرض للتبني انا اعتني بالقطط حديثه الولاده و وعند اكتمال شهرين يحتاجوا مساحة و وانا ما عندي هادي لوجود اكثر من و قطط حديثه الولاده للتواصل @ التبني الرياض و ',\n",
       " \"' الحمدالله من قبل ومن بعد أخذت اليوم الجرعه الأولى من لقاح # الله أن يجعل فيه العافيه وأن يزيل عن هذا الوباء عاجلا غير آجلا h \"]"
      ]
     },
     "execution_count": 30,
     "metadata": {},
     "output_type": "execute_result"
    }
   ],
   "source": [
    "spell_check(tweets[:2])"
   ]
  },
  {
   "cell_type": "markdown",
   "metadata": {},
   "source": [
    "## [3.4] Unify Numbers"
   ]
  },
  {
   "cell_type": "code",
   "execution_count": 25,
   "metadata": {},
   "outputs": [],
   "source": [
    "def replace_numbers(tweets, work=1):\n",
    "    \"\"\"Process tweet function.\n",
    "    Input:\n",
    "        tweets: list of tweets\n",
    "        work: binary value take 1 by default working as on/off for the function, if work=0 the function will return\n",
    "     the tweet without changing\n",
    "    Output:\n",
    "        cleaned_tweets: tweet after removing duplicated chars\n",
    "\n",
    "    \"\"\"\n",
    "    if work == 0:\n",
    "        return tweets\n",
    "    cleaned_tweets = []\n",
    "    for t in tweets:\n",
    "        cleaned_tweets.append(re.sub(r\"\\d+\", \"NUM\", t))\n",
    "    return cleaned_tweets"
   ]
  },
  {
   "cell_type": "markdown",
   "metadata": {},
   "source": [
    "تكون الأرقام مهمة في الإحصائيات"
   ]
  },
  {
   "cell_type": "markdown",
   "metadata": {},
   "source": [
    "يمكن عدم حذف الأرقام في حال كانت نسبة مئوية"
   ]
  },
  {
   "cell_type": "code",
   "execution_count": 28,
   "metadata": {},
   "outputs": [],
   "source": [
    "tweets_replaced_numbers = replace_numbers(train.tweet.values[9:99])"
   ]
  },
  {
   "cell_type": "code",
   "execution_count": 30,
   "metadata": {},
   "outputs": [
    {
     "data": {
      "text/plain": [
       "'@A<NUM>_NajM_<NUM>A @iii<NUM>bi @KsaBankr انا جاني كورونا وطبت ومابي لقاح خطأ تعميم فكره بس عشان شفت عينه وحده..وحنا نتكلم عن مرض نسبة الشفاء <NUM>٪وتجبر الناس تأخذ لقاحه ليش وانا مناعتي قوية وجربت كورونا؟'"
      ]
     },
     "execution_count": 30,
     "metadata": {},
     "output_type": "execute_result"
    }
   ],
   "source": [
    "tweets_replaced_numbers[7]"
   ]
  },
  {
   "cell_type": "code",
   "execution_count": 31,
   "metadata": {},
   "outputs": [
    {
     "data": {
      "text/plain": [
       "'@A<NUM>_NajM_<NUM>A @iii<NUM>bi @KsaBankr انا جاني كورونا وطبت ومابي لقاح خطأ تعميم فكره بس عشان شفت عينه وحده..وحنا نتكلم عن مرض نسبة الشفاء <NUM>٪وتجبر الناس تأخذ لقاحه ليش وانا مناعتي قوية وجربت كورونا؟'"
      ]
     },
     "execution_count": 31,
     "metadata": {},
     "output_type": "execute_result"
    }
   ],
   "source": [
    "tweets_replaced_numbers[7]"
   ]
  },
  {
   "cell_type": "markdown",
   "metadata": {},
   "source": [
    "## [3.5] Remove stop words"
   ]
  },
  {
   "cell_type": "code",
   "execution_count": 9,
   "metadata": {},
   "outputs": [],
   "source": [
    "def remove_stop_words(tweets, work=1):\n",
    "    \"\"\"Process tweet function.\n",
    "    Input:\n",
    "        tweets: list of tweets\n",
    "        work: binary value take 1 by default working as on/off for the function, if work=0 the function will return\n",
    "     the tweet without changing\n",
    "    Output:\n",
    "        cleaned_tweets: tweet after removing stop words\n",
    "\n",
    "    \"\"\"\n",
    "    if work == 0:\n",
    "        return tweets\n",
    "    cleaned_tweets = []\n",
    "    for tweet in tweets:\n",
    "        tweet_no_stopwords = ''\n",
    "        for word in tweet.split(' '):\n",
    "            if not word in nltk.corpus.stopwords.words('arabic'):\n",
    "                tweet_no_stopwords = tweet_no_stopwords + ' ' + word\n",
    "        cleaned_tweets.append(tweet_no_stopwords)\n",
    "    return cleaned_tweets"
   ]
  },
  {
   "cell_type": "markdown",
   "metadata": {},
   "source": [
    "## حذفها ليس بالأمر الجيد دائما لأنه ممكن أن يتغير المعنى عند حذفها في بعض الحالات"
   ]
  },
  {
   "cell_type": "code",
   "execution_count": 10,
   "metadata": {},
   "outputs": [],
   "source": [
    "def remove_emojis(tweets, work=1):\n",
    "    \"\"\"Process tweet function.\n",
    "    Input:\n",
    "        tweets: list of tweets\n",
    "        work: binary value take 1 by default working as on/off for the function, if work=0 the function will return\n",
    "     the tweet without changing\n",
    "    Output:\n",
    "        cleaned_tweets: tweet after removing emojis\n",
    "\n",
    "    \"\"\"\n",
    "    if work == 0:\n",
    "        return tweets\n",
    "    cleaned_tweets = []\n",
    "    for tweet in tweets:\n",
    "        emoji_pattern = re.compile(\"[\"\n",
    "        u\"\\U0001F600-\\U0001F64F\"  # emoticons\n",
    "        u\"\\U0001F300-\\U0001F5FF\"  # symbols & pictographs\n",
    "        u\"\\U0001F680-\\U0001F6FF\"  # transport & map symbols\n",
    "        u\"\\U0001F1E0-\\U0001F1FF\"  # flags (iOS)\n",
    "                           \"]+\", flags=re.UNICODE)\n",
    "        cleaned_tweets.append(emoji_pattern.sub(r'',tweet ))\n",
    "    return cleaned_tweets"
   ]
  },
  {
   "cell_type": "code",
   "execution_count": 11,
   "metadata": {},
   "outputs": [
    {
     "ename": "NameError",
     "evalue": "name 'tweets_replaced_numbers' is not defined",
     "output_type": "error",
     "traceback": [
      "\u001b[1;31m---------------------------------------------------------------------------\u001b[0m",
      "\u001b[1;31mNameError\u001b[0m                                 Traceback (most recent call last)",
      "\u001b[1;32m<ipython-input-11-69e310026fa5>\u001b[0m in \u001b[0;36m<module>\u001b[1;34m\u001b[0m\n\u001b[1;32m----> 1\u001b[1;33m \u001b[0mtweets_no_stopwords\u001b[0m \u001b[1;33m=\u001b[0m \u001b[0mremove_stop_words\u001b[0m\u001b[1;33m(\u001b[0m\u001b[0mtweets_replaced_numbers\u001b[0m\u001b[1;33m[\u001b[0m\u001b[1;33m:\u001b[0m\u001b[1;36m10\u001b[0m\u001b[1;33m]\u001b[0m\u001b[1;33m)\u001b[0m\u001b[1;33m\u001b[0m\u001b[1;33m\u001b[0m\u001b[0m\n\u001b[0m",
      "\u001b[1;31mNameError\u001b[0m: name 'tweets_replaced_numbers' is not defined"
     ]
    }
   ],
   "source": [
    "tweets_no_stopwords = remove_stop_words(tweets_replaced_numbers[:10])"
   ]
  },
  {
   "cell_type": "code",
   "execution_count": 12,
   "metadata": {},
   "outputs": [
    {
     "ename": "NameError",
     "evalue": "name 'tweets_no_stopwords' is not defined",
     "output_type": "error",
     "traceback": [
      "\u001b[1;31m---------------------------------------------------------------------------\u001b[0m",
      "\u001b[1;31mNameError\u001b[0m                                 Traceback (most recent call last)",
      "\u001b[1;32m<ipython-input-12-e7a3becbdd38>\u001b[0m in \u001b[0;36m<module>\u001b[1;34m\u001b[0m\n\u001b[1;32m----> 1\u001b[1;33m \u001b[0mtweets_no_emojis\u001b[0m \u001b[1;33m=\u001b[0m \u001b[0mremove_emojis\u001b[0m\u001b[1;33m(\u001b[0m\u001b[0mtweets_no_stopwords\u001b[0m\u001b[1;33m)\u001b[0m\u001b[1;33m\u001b[0m\u001b[1;33m\u001b[0m\u001b[0m\n\u001b[0m",
      "\u001b[1;31mNameError\u001b[0m: name 'tweets_no_stopwords' is not defined"
     ]
    }
   ],
   "source": [
    "tweets_no_emojis = remove_emojis(tweets_no_stopwords)"
   ]
  },
  {
   "cell_type": "code",
   "execution_count": 13,
   "metadata": {},
   "outputs": [
    {
     "ename": "NameError",
     "evalue": "name 'tweets_replaced_numbers' is not defined",
     "output_type": "error",
     "traceback": [
      "\u001b[1;31m---------------------------------------------------------------------------\u001b[0m",
      "\u001b[1;31mNameError\u001b[0m                                 Traceback (most recent call last)",
      "\u001b[1;32m<ipython-input-13-915961b5829f>\u001b[0m in \u001b[0;36m<module>\u001b[1;34m\u001b[0m\n\u001b[1;32m----> 1\u001b[1;33m \u001b[0mtweets_replaced_numbers\u001b[0m\u001b[1;33m[\u001b[0m\u001b[1;36m7\u001b[0m\u001b[1;33m]\u001b[0m\u001b[1;33m\u001b[0m\u001b[1;33m\u001b[0m\u001b[0m\n\u001b[0m",
      "\u001b[1;31mNameError\u001b[0m: name 'tweets_replaced_numbers' is not defined"
     ]
    }
   ],
   "source": [
    "tweets_replaced_numbers[7]"
   ]
  },
  {
   "cell_type": "code",
   "execution_count": 40,
   "metadata": {
    "scrolled": true
   },
   "outputs": [
    {
     "data": {
      "text/plain": [
       "' السلطات الصحية تعلن تطعيم نصف مليون طفل الفئة العمرية [<NUM>-<NUM>] بلقاح فيروس كورونا أنحاء البلاد أسبوع بدء تطعيم الفئة '"
      ]
     },
     "execution_count": 40,
     "metadata": {},
     "output_type": "execute_result"
    }
   ],
   "source": [
    "tweets_no_emojis[7]"
   ]
  },
  {
   "cell_type": "markdown",
   "metadata": {},
   "source": [
    "## [3.6] Keep arabic text"
   ]
  },
  {
   "cell_type": "code",
   "execution_count": 57,
   "metadata": {},
   "outputs": [],
   "source": [
    "def keep_arabic(tweets, work=1):\n",
    "    \"\"\"Process tweet function.\n",
    "    Input:\n",
    "        tweets: list of tweets\n",
    "        work: binary value take 1 by default working as on/off for the function, if work=0 the function will return\n",
    "     the tweet without changing\n",
    "    Output:\n",
    "        cleaned_tweets: tweet after keeping arabic words and hashtags\n",
    "\n",
    "    \"\"\"\n",
    "    if work == 0:\n",
    "        return tweets\n",
    "    cleaned_tweets = []\n",
    "    pattern = re.compile(\"([\\u0627-\\u064a]+) | #\\w+\")\n",
    "    for tweet in tweets:\n",
    "        tweet_ar = ''\n",
    "        for word in tweet.split(' '):\n",
    "            if pattern.match(word):\n",
    "                tweet_ar = tweet_ar + ' ' + word\n",
    "        cleaned_tweets.append(tweet_ar)\n",
    "    return cleaned_tweets"
   ]
  },
  {
   "cell_type": "markdown",
   "metadata": {},
   "source": [
    "## [3.7] Lemmatization"
   ]
  },
  {
   "cell_type": "code",
   "execution_count": 33,
   "metadata": {},
   "outputs": [],
   "source": [
    "def lemmatize(tweets, work=1):\n",
    "    \"\"\"Process tweet function.\n",
    "    Input:\n",
    "        tweets: list of tweets\n",
    "        work: binary value take 1 by default working as on/off for the function, if work=0 the function will return\n",
    "     the tweet without changing\n",
    "    Output:\n",
    "        cleaned_tweets: tweet after Lemmatization\n",
    "\n",
    "    \"\"\"\n",
    "    if work == 0:\n",
    "        return tweets\n",
    "    cleaned_tweets = []\n",
    "    lemmer = qalsadi.lemmatizer.Lemmatizer()\n",
    "    for tweet in tweets:\n",
    "        lemmas = lemmer.lemmatize_text(tweet)\n",
    "        tweet_lem = ''\n",
    "        for word in lemmas:\n",
    "#             if word == 'NUM' or word == '>':\n",
    "#                 tweet_lem = tweet_lem + word\n",
    "#             else:\n",
    "            tweet_lem = tweet_lem + ' ' + word\n",
    "        cleaned_tweets.append(tweet_lem)\n",
    "    return cleaned_tweets"
   ]
  },
  {
   "cell_type": "code",
   "execution_count": 34,
   "metadata": {},
   "outputs": [
    {
     "data": {
      "text/plain": [
       "[' @ A < NUM > _NajM_ < NUM > A @ iii < NUM > bi @ KsaBankr انا جان كار طاب ومابي لقاح خطأ تعميم كره بس عش شاف عين وحد .. حن تكلم عن مرض نسب شفاء < NUM >٪ تجبر ناس أخذ لقاح ليش وانا مناع قوى جرب كار ؟']"
      ]
     },
     "execution_count": 34,
     "metadata": {},
     "output_type": "execute_result"
    }
   ],
   "source": [
    "tweet_lemmatized = lemmatize(tweets_replaced_numbers[7:8])\n",
    "# print(tweets_no_emojis[7:8])\n",
    "tweet_lemmatized"
   ]
  },
  {
   "cell_type": "markdown",
   "metadata": {},
   "source": [
    "## [3.8] Normalization"
   ]
  },
  {
   "cell_type": "code",
   "execution_count": 82,
   "metadata": {},
   "outputs": [],
   "source": [
    "def normalize(tweets, work=1):\n",
    "    \"\"\"Process tweet function.\n",
    "    Input:\n",
    "        tweets: list of tweets\n",
    "        work: binary value take 1 by default working as on/off for the function, if work=0 the function will return\n",
    "     the tweet without changing\n",
    "    Output:\n",
    "        cleaned_tweets: tweet after Normalization\n",
    "\n",
    "    \"\"\"\n",
    "    if work == 0:\n",
    "        return tweets\n",
    "    cleaned_tweets = []\n",
    "    for tweet in tweets:\n",
    "        for form in  ('أ', 'إ', 'آ',):\n",
    "            tweet = tweet.replace(form, 'ا')\n",
    "        \n",
    "        tweet = tweet.replace('ة', 'ه')\n",
    "        \n",
    "        tweet = tweet.replace('ئ', 'ء')\n",
    "        tweet = tweet.replace('ؤ', 'ء')\n",
    "        \n",
    "#         tweet = tweet.replace('ي', 'ى')\n",
    "        \n",
    "\n",
    "        cleaned_tweets.append(tweet)\n",
    "    return cleaned_tweets"
   ]
  },
  {
   "cell_type": "code",
   "execution_count": 83,
   "metadata": {},
   "outputs": [
    {
     "name": "stdout",
     "output_type": "stream",
     "text": [
      "['أهم شيء تتلقحون، أما الدراسة فعساكم ما تعلمتم\"أعِنّي عَليَّ فَإنِّي عَدوِّي وأنت عَليمٌ بِكُلِّ الخَفايا\"🖤🖤🖤🖤✅ منشأها الهند.. اكتشاف سلالة جديدة مزدوجة من فيروس كورونا']\n"
     ]
    },
    {
     "data": {
      "text/plain": [
       "['اهم شيء تتلقحون، اما الدراسه فعساكم ما تعلمتم\"اعِنّي عَليَّ فَانِّي عَدوِّي وانت عَليمٌ بِكُلِّ الخَفايا\"🖤🖤🖤🖤✅ منشاها الهند.. اكتشاف سلاله جديده مزدوجه من فيروس كورونا']"
      ]
     },
     "execution_count": 83,
     "metadata": {},
     "output_type": "execute_result"
    }
   ],
   "source": [
    "norm = normalize(tweets[2463:2464])\n",
    "print(tweets[2463:2464])\n",
    "norm"
   ]
  },
  {
   "cell_type": "markdown",
   "metadata": {},
   "source": [
    "# خطوة مهمة لكي لا تكون الداتا Sparse "
   ]
  },
  {
   "cell_type": "markdown",
   "metadata": {},
   "source": [
    "#### بحيث لا توجد طريقة موحدة عند كتابة الأحرف المذكورة"
   ]
  },
  {
   "cell_type": "markdown",
   "metadata": {},
   "source": [
    "#### يمكن أيضا إزالة الحركات والتنوين"
   ]
  },
  {
   "cell_type": "markdown",
   "metadata": {},
   "source": [
    "## Extra: diacritic removal"
   ]
  },
  {
   "cell_type": "code",
   "execution_count": 84,
   "metadata": {},
   "outputs": [],
   "source": [
    "def diacritic_removal(tweets, work=1):\n",
    "    \"\"\"Process tweet function.\n",
    "    Input:\n",
    "        tweets: list of tweets\n",
    "        work: binary value take 1 by default working as on/off for the function, if work=0 the function will return\n",
    "     the tweet without changing\n",
    "    Output:\n",
    "        cleaned_tweets: tweet after Normalization\n",
    "\n",
    "    \"\"\"\n",
    "    if work == 0:\n",
    "        return tweets\n",
    "    \n",
    "    DIACRITICS = (\n",
    "    'َ',  # Fatha\n",
    "    'ُ',  # Damma\n",
    "    'ِ',  # Kasra\n",
    "    'ً',  # Tanween Fath\n",
    "    'ٌ',  # Tanween Damm\n",
    "    'ٍ',  # Tanween Kase\n",
    "    'ْ',  # Sokoon\n",
    "    'ّ',  # Shadda\n",
    "    'ـ', # Tatweel\n",
    "    )\n",
    "    \n",
    "    cleaned_tweets = []\n",
    "    for tweet in tweets:\n",
    "        for diacritic in DIACRITICS:\n",
    "            tweet = tweet.replace(diacritic, '')\n",
    "        cleaned_tweets.append(tweet)\n",
    "    return cleaned_tweets"
   ]
  },
  {
   "cell_type": "code",
   "execution_count": 85,
   "metadata": {},
   "outputs": [
    {
     "name": "stdout",
     "output_type": "stream",
     "text": [
      "['اهم شيء تتلقحون، اما الدراسه فعساكم ما تعلمتم\"اعِنّي عَليَّ فَانِّي عَدوِّي وانت عَليمٌ بِكُلِّ الخَفايا\"🖤🖤🖤🖤✅ منشاها الهند.. اكتشاف سلاله جديده مزدوجه من فيروس كورونا']\n"
     ]
    },
    {
     "data": {
      "text/plain": [
       "['اهم شيء تتلقحون، اما الدراسه فعساكم ما تعلمتم\"اعني علي فاني عدوي وانت عليم بكل الخفايا\"🖤🖤🖤🖤✅ منشاها الهند.. اكتشاف سلاله جديده مزدوجه من فيروس كورونا']"
      ]
     },
     "execution_count": 85,
     "metadata": {},
     "output_type": "execute_result"
    }
   ],
   "source": [
    "t = diacritic_removal(norm)\n",
    "print(norm)\n",
    "t"
   ]
  },
  {
   "cell_type": "code",
   "execution_count": 86,
   "metadata": {},
   "outputs": [],
   "source": [
    "def remove_duplicate_tweets(tweets, work=1):\n",
    "    \"\"\"Process tweet function.\n",
    "    Input:\n",
    "        tweets: list of tweets\n",
    "        work: binary value take 1 by default working as on/off for the function, if work=0 the function will return\n",
    "     the tweet without changing\n",
    "    Output:\n",
    "        tweets after removing duplicated tweets\n",
    "\n",
    "    \"\"\"\n",
    "    if work == 0:\n",
    "        return tweets\n",
    "    \n",
    "    return list(set(tweets))"
   ]
  },
  {
   "cell_type": "code",
   "execution_count": 87,
   "metadata": {},
   "outputs": [],
   "source": [
    "def preprocess(tweet, flags=[1,1,1,1,1,1,1,1,1]):\n",
    "    \"\"\"Process tweet function.\n",
    "    Input:\n",
    "        tweet: a string containing a tweet\n",
    "        flags: list of \"work\" values for all functions will called here.\n",
    "    Output:\n",
    "        cleaned_tweet: tweet after apply all cleaning and normlizaing functions\n",
    "\n",
    "    \"\"\"\n",
    "    tweet = remove_urls(tweet, flags[0])\n",
    "    tweet = remove_mentions(tweet, flags[1])\n",
    "    tweet = remove_dup_cahrs(tweet, flags[2])\n",
    "    tweet = spell_check(tweet, flags[3])\n",
    "    tweet = replace_numbers(tweet, flags[4])\n",
    "    tweet = remove_stop_words(tweet, flags[5])\n",
    "    tweet = remove_emojis(tweet, flags[6])\n",
    "    tweet = lemmatize(tweet, flags[7])\n",
    "    tweet = diacritic_removal(tweet, flags[8])\n",
    "    tweet = remove_duplicate_tweets(tweet, flags[9])\n",
    "    ...\n",
    "    return tweet"
   ]
  }
 ],
 "metadata": {
  "kernelspec": {
   "display_name": "Python 3",
   "language": "python",
   "name": "python3"
  },
  "language_info": {
   "codemirror_mode": {
    "name": "ipython",
    "version": 3
   },
   "file_extension": ".py",
   "mimetype": "text/x-python",
   "name": "python",
   "nbconvert_exporter": "python",
   "pygments_lexer": "ipython3",
   "version": "3.8.3"
  }
 },
 "nbformat": 4,
 "nbformat_minor": 5
}
