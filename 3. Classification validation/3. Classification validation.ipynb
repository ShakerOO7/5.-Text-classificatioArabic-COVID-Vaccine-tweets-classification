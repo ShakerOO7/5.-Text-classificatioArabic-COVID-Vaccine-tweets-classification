{
 "cells": [
  {
   "cell_type": "code",
   "execution_count": 1,
   "metadata": {},
   "outputs": [
    {
     "data": {
      "application/vnd.jupyter.widget-view+json": {
       "model_id": "356a0385e8cd4041a26a5e6e66eabd7a",
       "version_major": 2,
       "version_minor": 0
      },
      "text/plain": [
       "HTML(value=\"<h1 style='text-align:center'>t &nbsp; <span style=        'color:#36a849'>o</span> &nbsp; r &nbsp…"
      ]
     },
     "metadata": {},
     "output_type": "display_data"
    },
    {
     "data": {
      "application/vnd.jupyter.widget-view+json": {
       "model_id": "3b863cd7c24346cab0c026f701d2a514",
       "version_major": 2,
       "version_minor": 0
      },
      "text/plain": [
       "HTML(value=\"<h3 style='text-align:center'>        easy text annotation in a Jupyter Notebook</h3>\")"
      ]
     },
     "metadata": {},
     "output_type": "display_data"
    }
   ],
   "source": [
    "import pandas as pd\n",
    "from tortus import Tortus"
   ]
  },
  {
   "cell_type": "code",
   "execution_count": 62,
   "metadata": {},
   "outputs": [],
   "source": [
    "tweets_df = pd.read_csv(r'110.txt', delimiter = ',', encoding = 'utf-8')\n",
    "tweets_df.to_csv('110_not_reviewed.csv', encoding = 'utf-8')"
   ]
  },
  {
   "cell_type": "code",
   "execution_count": 63,
   "metadata": {},
   "outputs": [
    {
     "data": {
      "text/html": [
       "<div>\n",
       "<style scoped>\n",
       "    .dataframe tbody tr th:only-of-type {\n",
       "        vertical-align: middle;\n",
       "    }\n",
       "\n",
       "    .dataframe tbody tr th {\n",
       "        vertical-align: top;\n",
       "    }\n",
       "\n",
       "    .dataframe thead th {\n",
       "        text-align: right;\n",
       "    }\n",
       "</style>\n",
       "<table border=\"1\" class=\"dataframe\">\n",
       "  <thead>\n",
       "    <tr style=\"text-align: right;\">\n",
       "      <th></th>\n",
       "      <th>id_column</th>\n",
       "      <th>tweets</th>\n",
       "      <th>label</th>\n",
       "      <th>annotated_at</th>\n",
       "    </tr>\n",
       "  </thead>\n",
       "  <tbody>\n",
       "    <tr>\n",
       "      <th>0</th>\n",
       "      <td>0</td>\n",
       "      <td>لقاح استرازنكا اسمو العلمي AZD1222 (ChAdox1) و...</td>\n",
       "      <td>3</td>\n",
       "      <td>2021-11-23 19:40:30</td>\n",
       "    </tr>\n",
       "    <tr>\n",
       "      <th>1</th>\n",
       "      <td>1</td>\n",
       "      <td>@naif313 مااعتقد في لقاح جديد ،، بالنسبه للتقا...</td>\n",
       "      <td>3</td>\n",
       "      <td>2021-11-23 19:42:03</td>\n",
       "    </tr>\n",
       "    <tr>\n",
       "      <th>2</th>\n",
       "      <td>2</td>\n",
       "      <td>بحث جديد : فاعلية لقاح \"موديرنا \" تبقى \"قوية\" ...</td>\n",
       "      <td>1</td>\n",
       "      <td>2021-11-23 19:42:17</td>\n",
       "    </tr>\n",
       "    <tr>\n",
       "      <th>3</th>\n",
       "      <td>3</td>\n",
       "      <td>◀تلقي3.020.450 مليون شخص الجرعتين 💉💉- تلقي 2.8...</td>\n",
       "      <td>1</td>\n",
       "      <td>2021-11-23 19:42:40</td>\n",
       "    </tr>\n",
       "    <tr>\n",
       "      <th>4</th>\n",
       "      <td>4</td>\n",
       "      <td>◀تم تطعيم 9.811.529 مليون شخص ضد #COVID19 في إ...</td>\n",
       "      <td>3</td>\n",
       "      <td>2021-11-23 19:43:05</td>\n",
       "    </tr>\n",
       "    <tr>\n",
       "      <th>5</th>\n",
       "      <td>5</td>\n",
       "      <td>فاعلية لقاح «موديرنا» تبقى «قوية» بعد 6 أشهر م...</td>\n",
       "      <td>1</td>\n",
       "      <td>2021-11-23 19:43:22</td>\n",
       "    </tr>\n",
       "    <tr>\n",
       "      <th>6</th>\n",
       "      <td>6</td>\n",
       "      <td>بريطانيا تتجه لتحصين جميع البالغين دون الثلاثي...</td>\n",
       "      <td>1</td>\n",
       "      <td>2021-11-23 19:43:33</td>\n",
       "    </tr>\n",
       "    <tr>\n",
       "      <th>7</th>\n",
       "      <td>7</td>\n",
       "      <td>@Saronita2008 @Famj2112 @hms07666 @hanan_24242...</td>\n",
       "      <td>3</td>\n",
       "      <td>2021-11-23 19:43:45</td>\n",
       "    </tr>\n",
       "    <tr>\n",
       "      <th>8</th>\n",
       "      <td>8</td>\n",
       "      <td>@Hamsabdullah تاني يوم بعد الجرعة التانية من ل...</td>\n",
       "      <td>0</td>\n",
       "      <td>2021-11-23 19:43:59</td>\n",
       "    </tr>\n",
       "    <tr>\n",
       "      <th>9</th>\n",
       "      <td>9</td>\n",
       "      <td>فاعلية لقاح «موديرنا» تبقى «قوية» بعد 6 أشهر م...</td>\n",
       "      <td>1</td>\n",
       "      <td>2021-11-23 19:45:24</td>\n",
       "    </tr>\n",
       "    <tr>\n",
       "      <th>10</th>\n",
       "      <td>10</td>\n",
       "      <td>دراسة تكشف استمرار فاعلية لقاح موديرنا ضد فيرو...</td>\n",
       "      <td>1</td>\n",
       "      <td>2021-11-23 19:45:33</td>\n",
       "    </tr>\n",
       "    <tr>\n",
       "      <th>11</th>\n",
       "      <td>11</td>\n",
       "      <td>🔥 وفاة “ثلاثينية” بعد 4 أيام من تلقيها الجرعة ...</td>\n",
       "      <td>0</td>\n",
       "      <td>2021-11-23 19:45:41</td>\n",
       "    </tr>\n",
       "    <tr>\n",
       "      <th>12</th>\n",
       "      <td>12</td>\n",
       "      <td>@alqasemab @fhrL39o4TX3quZB @3z_alanazi @Mona1...</td>\n",
       "      <td>3</td>\n",
       "      <td>2021-11-23 19:46:04</td>\n",
       "    </tr>\n",
       "    <tr>\n",
       "      <th>13</th>\n",
       "      <td>13</td>\n",
       "      <td>@alwoozain ماعندهم لقاح موديرنا ولا كان الثريد...</td>\n",
       "      <td>3</td>\n",
       "      <td>2021-11-23 19:46:16</td>\n",
       "    </tr>\n",
       "    <tr>\n",
       "      <th>14</th>\n",
       "      <td>14</td>\n",
       "      <td>أصبحت #ويلز أول بلدان المملكة المتحدة التي تبد...</td>\n",
       "      <td>3</td>\n",
       "      <td>2021-11-23 19:46:27</td>\n",
       "    </tr>\n",
       "    <tr>\n",
       "      <th>15</th>\n",
       "      <td>15</td>\n",
       "      <td>@shaganalayam200 لقاح موديرنا ولقاح فايزر افضل شي</td>\n",
       "      <td>1</td>\n",
       "      <td>2021-11-23 19:46:33</td>\n",
       "    </tr>\n",
       "    <tr>\n",
       "      <th>16</th>\n",
       "      <td>16</td>\n",
       "      <td>فاعلية لقاح «موديرنا» تبقى «قوية» بعد 6 أشهر م...</td>\n",
       "      <td>1</td>\n",
       "      <td>2021-11-23 19:46:40</td>\n",
       "    </tr>\n",
       "    <tr>\n",
       "      <th>17</th>\n",
       "      <td>17</td>\n",
       "      <td>دراسة: فعالية لقاح موديرنا تبقى قوية بعد 6 أشه...</td>\n",
       "      <td>1</td>\n",
       "      <td>2021-11-23 19:46:43</td>\n",
       "    </tr>\n",
       "    <tr>\n",
       "      <th>18</th>\n",
       "      <td>18</td>\n",
       "      <td>فعالية لقاح #موديرنا تبقى قوية بعد 6 أشهر من ا...</td>\n",
       "      <td>3</td>\n",
       "      <td>2021-11-23 19:46:48</td>\n",
       "    </tr>\n",
       "    <tr>\n",
       "      <th>19</th>\n",
       "      <td>19</td>\n",
       "      <td>أبحاث علمية: فاعلية لقاح #موديرنا تبقى قوية بع...</td>\n",
       "      <td>1</td>\n",
       "      <td>2021-11-23 19:46:56</td>\n",
       "    </tr>\n",
       "  </tbody>\n",
       "</table>\n",
       "</div>"
      ],
      "text/plain": [
       "    id_column                                             tweets  label  \\\n",
       "0           0  لقاح استرازنكا اسمو العلمي AZD1222 (ChAdox1) و...      3   \n",
       "1           1  @naif313 مااعتقد في لقاح جديد ،، بالنسبه للتقا...      3   \n",
       "2           2  بحث جديد : فاعلية لقاح \"موديرنا \" تبقى \"قوية\" ...      1   \n",
       "3           3  ◀تلقي3.020.450 مليون شخص الجرعتين 💉💉- تلقي 2.8...      1   \n",
       "4           4  ◀تم تطعيم 9.811.529 مليون شخص ضد #COVID19 في إ...      3   \n",
       "5           5  فاعلية لقاح «موديرنا» تبقى «قوية» بعد 6 أشهر م...      1   \n",
       "6           6  بريطانيا تتجه لتحصين جميع البالغين دون الثلاثي...      1   \n",
       "7           7  @Saronita2008 @Famj2112 @hms07666 @hanan_24242...      3   \n",
       "8           8  @Hamsabdullah تاني يوم بعد الجرعة التانية من ل...      0   \n",
       "9           9  فاعلية لقاح «موديرنا» تبقى «قوية» بعد 6 أشهر م...      1   \n",
       "10         10  دراسة تكشف استمرار فاعلية لقاح موديرنا ضد فيرو...      1   \n",
       "11         11  🔥 وفاة “ثلاثينية” بعد 4 أيام من تلقيها الجرعة ...      0   \n",
       "12         12  @alqasemab @fhrL39o4TX3quZB @3z_alanazi @Mona1...      3   \n",
       "13         13  @alwoozain ماعندهم لقاح موديرنا ولا كان الثريد...      3   \n",
       "14         14  أصبحت #ويلز أول بلدان المملكة المتحدة التي تبد...      3   \n",
       "15         15  @shaganalayam200 لقاح موديرنا ولقاح فايزر افضل شي      1   \n",
       "16         16  فاعلية لقاح «موديرنا» تبقى «قوية» بعد 6 أشهر م...      1   \n",
       "17         17  دراسة: فعالية لقاح موديرنا تبقى قوية بعد 6 أشه...      1   \n",
       "18         18  فعالية لقاح #موديرنا تبقى قوية بعد 6 أشهر من ا...      3   \n",
       "19         19  أبحاث علمية: فاعلية لقاح #موديرنا تبقى قوية بع...      1   \n",
       "\n",
       "           annotated_at  \n",
       "0   2021-11-23 19:40:30  \n",
       "1   2021-11-23 19:42:03  \n",
       "2   2021-11-23 19:42:17  \n",
       "3   2021-11-23 19:42:40  \n",
       "4   2021-11-23 19:43:05  \n",
       "5   2021-11-23 19:43:22  \n",
       "6   2021-11-23 19:43:33  \n",
       "7   2021-11-23 19:43:45  \n",
       "8   2021-11-23 19:43:59  \n",
       "9   2021-11-23 19:45:24  \n",
       "10  2021-11-23 19:45:33  \n",
       "11  2021-11-23 19:45:41  \n",
       "12  2021-11-23 19:46:04  \n",
       "13  2021-11-23 19:46:16  \n",
       "14  2021-11-23 19:46:27  \n",
       "15  2021-11-23 19:46:33  \n",
       "16  2021-11-23 19:46:40  \n",
       "17  2021-11-23 19:46:43  \n",
       "18  2021-11-23 19:46:48  \n",
       "19  2021-11-23 19:46:56  "
      ]
     },
     "execution_count": 63,
     "metadata": {},
     "output_type": "execute_result"
    }
   ],
   "source": [
    "tweets_df.head(20)"
   ]
  },
  {
   "cell_type": "code",
   "execution_count": 66,
   "metadata": {},
   "outputs": [
    {
     "data": {
      "application/vnd.jupyter.widget-view+json": {
       "model_id": "6c952686616749d2a21a76a61211d581",
       "version_major": 2,
       "version_minor": 0
      },
      "text/plain": [
       "HBox(children=(HTML(value='<h1>t &nbsp; <span style=\"color:#36a849\">o</span>             &nbsp; r &nbsp; t &nb…"
      ]
     },
     "metadata": {},
     "output_type": "display_data"
    },
    {
     "data": {
      "application/vnd.jupyter.widget-view+json": {
       "model_id": "c7899001f1434bd6ac50db3618373117",
       "version_major": 2,
       "version_minor": 0
      },
      "text/plain": [
       "HTML(value='Click on the label corresponding with the text below. Each selection requires                 conf…"
      ]
     },
     "metadata": {},
     "output_type": "display_data"
    },
    {
     "data": {
      "application/vnd.jupyter.widget-view+json": {
       "model_id": "fbd5bcf323cc4194b0a4a365c6b43570",
       "version_major": 2,
       "version_minor": 0
      },
      "text/plain": [
       "HTML(value='<h4>لقاح استرازنكا اسمو العلمي AZD1222 (ChAdox1) وده نوعو Non-Replicating viral vector جابو Adenov…"
      ]
     },
     "metadata": {},
     "output_type": "display_data"
    },
    {
     "data": {
      "application/vnd.jupyter.widget-view+json": {
       "model_id": "7323b2fd53d940f0a5f6225595a02456",
       "version_major": 2,
       "version_minor": 0
      },
      "text/plain": [
       "GridBox(children=(VBox(children=(Box(children=(Button(description='1 positive', layout=Layout(border='solid', …"
      ]
     },
     "metadata": {},
     "output_type": "display_data"
    },
    {
     "data": {
      "application/vnd.jupyter.widget-view+json": {
       "model_id": "70a869f5a4204934b8aef3342bc93451",
       "version_major": 2,
       "version_minor": 0
      },
      "text/plain": [
       "Output()"
      ]
     },
     "metadata": {},
     "output_type": "display_data"
    }
   ],
   "source": [
    "labeled = Tortus(\n",
    "    tweets_df, #dataframe name\n",
    "    'tweets', # column name wanted to label\n",
    "    num_records=tweets_df.shape[0], # number of rows you want to annotate\n",
    "#     id_column='review_id', # column id name, if you don't have it put dataframe index as ids\n",
    "    random=False, # if true, the tool will peak rows in random sorting\n",
    "    labels=['1 positive', '0 negative', '2 irrelevent', '3 unknown'] #classes names, should be numbers in your case\n",
    ")\n",
    "\n",
    "labeled.annotate()"
   ]
  },
  {
   "cell_type": "code",
   "execution_count": null,
   "metadata": {},
   "outputs": [],
   "source": []
  }
 ],
 "metadata": {
  "kernelspec": {
   "display_name": "Python 3",
   "language": "python",
   "name": "python3"
  },
  "language_info": {
   "codemirror_mode": {
    "name": "ipython",
    "version": 3
   },
   "file_extension": ".py",
   "mimetype": "text/x-python",
   "name": "python",
   "nbconvert_exporter": "python",
   "pygments_lexer": "ipython3",
   "version": "3.8.3"
  }
 },
 "nbformat": 4,
 "nbformat_minor": 4
}
