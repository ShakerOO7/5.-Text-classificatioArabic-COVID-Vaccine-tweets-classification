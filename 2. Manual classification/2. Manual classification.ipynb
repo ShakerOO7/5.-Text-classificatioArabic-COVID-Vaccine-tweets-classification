{
 "cells": [
  {
   "cell_type": "code",
   "execution_count": 30,
   "metadata": {},
   "outputs": [
    {
     "data": {
      "application/vnd.jupyter.widget-view+json": {
       "model_id": "02cc8496d84143ceb201750fc1da5f41",
       "version_major": 2,
       "version_minor": 0
      },
      "text/plain": [
       "HTML(value=\"<h1 style='text-align:center'>t &nbsp; <span style=        'color:#36a849'>o</span> &nbsp; r &nbsp…"
      ]
     },
     "metadata": {},
     "output_type": "display_data"
    },
    {
     "data": {
      "application/vnd.jupyter.widget-view+json": {
       "model_id": "698cbbc8fbb64aa6bfd1536be6c23fad",
       "version_major": 2,
       "version_minor": 0
      },
      "text/plain": [
       "HTML(value=\"<h3 style='text-align:center'>        easy text annotation in a Jupyter Notebook</h3>\")"
      ]
     },
     "metadata": {},
     "output_type": "display_data"
    }
   ],
   "source": [
    "import random\n",
    "import pandas as pd\n",
    "from tortus import Tortus"
   ]
  },
  {
   "cell_type": "code",
   "execution_count": 54,
   "metadata": {},
   "outputs": [],
   "source": [
    "file = open('108.txt', 'r')\n",
    "tweets = file.readlines()"
   ]
  },
  {
   "cell_type": "code",
   "execution_count": 55,
   "metadata": {},
   "outputs": [
    {
     "name": "stdout",
     "output_type": "stream",
     "text": [
      "In New Court Filing, Craig Wright Claims to Receive Keys to $9.6B #bitcoin Fortune - CoinDesk #CraigWright https://t.co/SstZggptD0 https://t.co/sRCGFwIHDx\n",
      "\n"
     ]
    }
   ],
   "source": [
    "print(random.choice(tweets))"
   ]
  },
  {
   "cell_type": "code",
   "execution_count": 56,
   "metadata": {},
   "outputs": [],
   "source": [
    "tweets_df = pd.read_csv(r'108.txt', delimiter = '\\n')\n",
    "# tweets_df.rename(columns = {0: 'tweet'})"
   ]
  },
  {
   "cell_type": "code",
   "execution_count": 57,
   "metadata": {},
   "outputs": [
    {
     "data": {
      "text/html": [
       "<div>\n",
       "<style scoped>\n",
       "    .dataframe tbody tr th:only-of-type {\n",
       "        vertical-align: middle;\n",
       "    }\n",
       "\n",
       "    .dataframe tbody tr th {\n",
       "        vertical-align: top;\n",
       "    }\n",
       "\n",
       "    .dataframe thead th {\n",
       "        text-align: right;\n",
       "    }\n",
       "</style>\n",
       "<table border=\"1\" class=\"dataframe\">\n",
       "  <thead>\n",
       "    <tr style=\"text-align: right;\">\n",
       "      <th></th>\n",
       "      <th>Tweet</th>\n",
       "    </tr>\n",
       "  </thead>\n",
       "  <tbody>\n",
       "    <tr>\n",
       "      <th>0</th>\n",
       "      <td>In New Court Filing, Craig Wright Claims to Re...</td>\n",
       "    </tr>\n",
       "    <tr>\n",
       "      <th>1</th>\n",
       "      <td>@biserdimitrov @coinmetrics @MessariCrypto @Th...</td>\n",
       "    </tr>\n",
       "    <tr>\n",
       "      <th>2</th>\n",
       "      <td>@PeteBitcoin @digispud @riverish333 @ionstorm ...</td>\n",
       "    </tr>\n",
       "    <tr>\n",
       "      <th>3</th>\n",
       "      <td>Bitcoin price index https://t.co/o7UcHJUhC6 #U...</td>\n",
       "    </tr>\n",
       "    <tr>\n",
       "      <th>4</th>\n",
       "      <td>Bitcoin whale moves $1B at a fees of just $80 ...</td>\n",
       "    </tr>\n",
       "  </tbody>\n",
       "</table>\n",
       "</div>"
      ],
      "text/plain": [
       "                                               Tweet\n",
       "0  In New Court Filing, Craig Wright Claims to Re...\n",
       "1  @biserdimitrov @coinmetrics @MessariCrypto @Th...\n",
       "2  @PeteBitcoin @digispud @riverish333 @ionstorm ...\n",
       "3  Bitcoin price index https://t.co/o7UcHJUhC6 #U...\n",
       "4  Bitcoin whale moves $1B at a fees of just $80 ..."
      ]
     },
     "execution_count": 57,
     "metadata": {},
     "output_type": "execute_result"
    }
   ],
   "source": [
    "tweets_df.head()"
   ]
  },
  {
   "cell_type": "code",
   "execution_count": 66,
   "metadata": {},
   "outputs": [
    {
     "data": {
      "application/vnd.jupyter.widget-view+json": {
       "model_id": "17ddd7775e984188b0a209e045a233f2",
       "version_major": 2,
       "version_minor": 0
      },
      "text/plain": [
       "HBox(children=(HTML(value='<h1>t &nbsp; <span style=\"color:#36a849\">o</span>             &nbsp; r &nbsp; t &nb…"
      ]
     },
     "metadata": {},
     "output_type": "display_data"
    },
    {
     "data": {
      "application/vnd.jupyter.widget-view+json": {
       "model_id": "e500b1b1a1c14ee399cab77ede02eb7c",
       "version_major": 2,
       "version_minor": 0
      },
      "text/plain": [
       "Output()"
      ]
     },
     "metadata": {},
     "output_type": "display_data"
    }
   ],
   "source": [
    "labeled = Tortus(\n",
    "    tweets_df, #dataframe name\n",
    "    'Tweet', # column name wanted to label\n",
    "    num_records=tweets_df.shape[0], # number of rows you want to annotate\n",
    "#     id_column='review_id', # column id name, if you don't have it put dataframe index as ids\n",
    "    random=False, # if true, the tool will peak rows in random sorting\n",
    "    labels=['positive', 'negative', 'irrelevent', 'unknown'] #classes names, should be numbers in your case\n",
    ")\n",
    "\n",
    "labeled.annotate()"
   ]
  },
  {
   "cell_type": "code",
   "execution_count": 69,
   "metadata": {},
   "outputs": [],
   "source": [
    "labeled.annotations.to_csv('108.csv')"
   ]
  },
  {
   "cell_type": "code",
   "execution_count": null,
   "metadata": {},
   "outputs": [],
   "source": []
  }
 ],
 "metadata": {
  "kernelspec": {
   "display_name": "Python 3",
   "language": "python",
   "name": "python3"
  },
  "language_info": {
   "codemirror_mode": {
    "name": "ipython",
    "version": 3
   },
   "file_extension": ".py",
   "mimetype": "text/x-python",
   "name": "python",
   "nbconvert_exporter": "python",
   "pygments_lexer": "ipython3",
   "version": "3.8.3"
  }
 },
 "nbformat": 4,
 "nbformat_minor": 4
}
